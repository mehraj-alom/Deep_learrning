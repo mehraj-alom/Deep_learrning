{
  "metadata": {
    "kernelspec": {
      "display_name": "Python 3",
      "name": "python3"
    },
    "language_info": {
      "name": "python",
      "version": "3.11.13",
      "mimetype": "text/x-python",
      "codemirror_mode": {
        "name": "ipython",
        "version": 3
      },
      "pygments_lexer": "ipython3",
      "nbconvert_exporter": "python",
      "file_extension": ".py"
    },
    "kaggle": {
      "accelerator": "nvidiaTeslaT4",
      "dataSources": [
        {
          "sourceId": 12564000,
          "sourceType": "datasetVersion",
          "datasetId": 7933893
        },
        {
          "sourceId": 12564008,
          "sourceType": "datasetVersion",
          "datasetId": 7933901
        }
      ],
      "dockerImageVersionId": 31090,
      "isInternetEnabled": true,
      "language": "python",
      "sourceType": "notebook",
      "isGpuEnabled": true
    },
    "colab": {
      "name": "tf_pipeline.ipynb",
      "provenance": [],
      "gpuType": "T4",
      "include_colab_link": true
    },
    "accelerator": "GPU"
  },
  "nbformat_minor": 0,
  "nbformat": 4,
  "cells": [
    {
      "cell_type": "markdown",
      "metadata": {
        "id": "view-in-github",
        "colab_type": "text"
      },
      "source": [
        "<a href=\"https://colab.research.google.com/github/mehraj-alom/Deep_learrning/blob/main/tf_pipeline.ipynb\" target=\"_parent\"><img src=\"https://colab.research.google.com/assets/colab-badge.svg\" alt=\"Open In Colab\"/></a>"
      ]
    },
    {
      "source": [
        "# IMPORTANT: SOME KAGGLE DATA SOURCES ARE PRIVATE\n",
        "# RUN THIS CELL IN ORDER TO IMPORT YOUR KAGGLE DATA SOURCES.\n",
        "import kagglehub\n",
        "kagglehub.login()\n"
      ],
      "metadata": {
        "id": "ZztgnkkL0_wG"
      },
      "cell_type": "code",
      "outputs": [],
      "execution_count": null
    },
    {
      "source": [
        "# IMPORTANT: RUN THIS CELL IN ORDER TO IMPORT YOUR KAGGLE DATA SOURCES,\n",
        "# THEN FEEL FREE TO DELETE THIS CELL.\n",
        "# NOTE: THIS NOTEBOOK ENVIRONMENT DIFFERS FROM KAGGLE'S PYTHON\n",
        "# ENVIRONMENT SO THERE MAY BE MISSING LIBRARIES USED BY YOUR\n",
        "# NOTEBOOK.\n",
        "\n",
        "mehrajalomtapadar_cats_in_cats_path = kagglehub.dataset_download('mehrajalomtapadar/cats-in-cats')\n",
        "mehrajalomtapadar_dogs_in_dogs_path = kagglehub.dataset_download('mehrajalomtapadar/dogs-in-dogs')\n",
        "\n",
        "print('Data source import complete.')\n"
      ],
      "metadata": {
        "id": "M_gNZhbZ0_wK"
      },
      "cell_type": "code",
      "outputs": [],
      "execution_count": null
    },
    {
      "cell_type": "code",
      "source": [
        "# This Python 3 environment comes with many helpful analytics libraries installed\n",
        "# It is defined by the kaggle/python Docker image: https://github.com/kaggle/docker-python\n",
        "# For example, here's several helpful packages to load\n",
        "\n",
        "import numpy as np # linear algebra\n",
        "import pandas as pd # data processing, CSV file I/O (e.g. pd.read_csv)\n",
        "\n",
        "# Input data files are available in the read-only \"../input/\" directory\n",
        "# For example, running this (by clicking run or pressing Shift+Enter) will list all files under the input directory\n",
        "\n",
        "import os\n",
        "for dirname, _, filenames in os.walk('/kaggle/input'):\n",
        "    for filename in filenames:\n",
        "        print(os.path.join(dirname, filename))\n",
        "\n",
        "# You can write up to 20GB to the current directory (/kaggle/working/) that gets preserved as output when you create a version using \"Save & Run All\"\n",
        "# You can also write temporary files to /kaggle/temp/, but they won't be saved outside of the current session"
      ],
      "metadata": {
        "_uuid": "8f2839f25d086af736a60e9eeb907d3b93b6e0e5",
        "_cell_guid": "b1076dfc-b9ad-4769-8c92-a6c4dae69d19",
        "trusted": true,
        "execution": {
          "iopub.status.busy": "2025-07-24T13:49:28.910659Z",
          "iopub.execute_input": "2025-07-24T13:49:28.911142Z",
          "iopub.status.idle": "2025-07-24T13:49:29.189043Z",
          "shell.execute_reply.started": "2025-07-24T13:49:28.911118Z",
          "shell.execute_reply": "2025-07-24T13:49:29.18846Z"
        },
        "id": "XNfiqflo0_wK"
      },
      "outputs": [],
      "execution_count": null
    },
    {
      "cell_type": "code",
      "source": [
        "import tensorflow as tf\n",
        "daily_sales_numbers = [21, 22, -108, 31, -1, 32, 34,31]\n",
        "tf_dataset = tf.data.Dataset.from_tensor_slices(daily_sales_numbers)\n",
        "tf_dataset"
      ],
      "metadata": {
        "trusted": true,
        "execution": {
          "iopub.status.busy": "2025-07-24T13:49:29.190089Z",
          "iopub.execute_input": "2025-07-24T13:49:29.190432Z",
          "iopub.status.idle": "2025-07-24T13:49:50.910911Z",
          "shell.execute_reply.started": "2025-07-24T13:49:29.190413Z",
          "shell.execute_reply": "2025-07-24T13:49:50.910172Z"
        },
        "id": "vRCpx7Pf0_wL"
      },
      "outputs": [],
      "execution_count": null
    },
    {
      "cell_type": "code",
      "source": [
        "for data in tf_dataset.take(4):\n",
        "    print(data.numpy())"
      ],
      "metadata": {
        "trusted": true,
        "execution": {
          "iopub.status.busy": "2025-07-24T13:49:50.911696Z",
          "iopub.execute_input": "2025-07-24T13:49:50.912088Z",
          "iopub.status.idle": "2025-07-24T13:49:50.982905Z",
          "shell.execute_reply.started": "2025-07-24T13:49:50.912069Z",
          "shell.execute_reply": "2025-07-24T13:49:50.982363Z"
        },
        "id": "xjJI95ol0_wM"
      },
      "outputs": [],
      "execution_count": null
    },
    {
      "cell_type": "code",
      "source": [
        "tf_dataset = tf_dataset.filter(lambda x : x>0).map(lambda y : y/255).shuffle(3).batch(2)\n",
        "for data in tf_dataset.take(4).as_numpy_iterator():\n",
        "    print(data)"
      ],
      "metadata": {
        "trusted": true,
        "execution": {
          "iopub.status.busy": "2025-07-24T13:49:50.984647Z",
          "iopub.execute_input": "2025-07-24T13:49:50.984852Z",
          "iopub.status.idle": "2025-07-24T13:49:51.081411Z",
          "shell.execute_reply.started": "2025-07-24T13:49:50.984835Z",
          "shell.execute_reply": "2025-07-24T13:49:51.080777Z"
        },
        "id": "6gVrp77q0_wM"
      },
      "outputs": [],
      "execution_count": null
    },
    {
      "cell_type": "code",
      "source": [
        "import pandas as pd\n",
        "df_cats = pd.read_csv(\"/kaggle/input/cats-in-cats/Cats.csv\")\n",
        "df_dogs = pd.read_csv(\"/kaggle/input/dogs-in-dogs/dog_images.csv\")\n"
      ],
      "metadata": {
        "trusted": true,
        "execution": {
          "iopub.status.busy": "2025-07-24T13:49:51.081957Z",
          "iopub.execute_input": "2025-07-24T13:49:51.082125Z",
          "iopub.status.idle": "2025-07-24T13:49:51.105876Z",
          "shell.execute_reply.started": "2025-07-24T13:49:51.082111Z",
          "shell.execute_reply": "2025-07-24T13:49:51.105422Z"
        },
        "id": "RFwYbczj0_wM"
      },
      "outputs": [],
      "execution_count": null
    },
    {
      "cell_type": "code",
      "source": [
        "print(\"Cat CSV Columns:\", df_cats.columns)\n",
        "print(\"Dog CSV Columns:\", df_dogs.columns)\n"
      ],
      "metadata": {
        "trusted": true,
        "execution": {
          "iopub.status.busy": "2025-07-24T13:49:51.106615Z",
          "iopub.execute_input": "2025-07-24T13:49:51.106879Z",
          "iopub.status.idle": "2025-07-24T13:49:51.112984Z",
          "shell.execute_reply.started": "2025-07-24T13:49:51.106855Z",
          "shell.execute_reply": "2025-07-24T13:49:51.112201Z"
        },
        "id": "q_hpue9L0_wN"
      },
      "outputs": [],
      "execution_count": null
    },
    {
      "cell_type": "code",
      "source": [
        "\n",
        "df_cats = df_cats.rename(columns={\n",
        "    \"Image\" : \"url\"\n",
        "})\n",
        "df_cats[\"label\"] = 0\n",
        "df_dogs[\"label\"] = 1\n",
        "\n",
        "df_all = pd.concat([df_dogs[[\"url\",\"label\"]],df_cats[[\"url\",\"label\"]]],ignore_index=True)\n",
        "file_path = df_all[\"url\"].values\n",
        "label = df_all[\"label\"].values\n",
        "\n",
        "dataset = tf.data.Dataset.from_tensor_slices((file_path,label))\n",
        "\n",
        "def load_and_preprocess_image(path, label):\n",
        "    image = tf.io.read_file(path)\n",
        "    image = tf.image.decode_jpeg(image, channels=3)\n",
        "    image = tf.image.resize(image, [224, 224])\n",
        "    image = image / 255.0\n",
        "    return image, label\n",
        "\n",
        "pipeline = (\n",
        "    dataset\n",
        "    .shuffle(buffer_size=100)\n",
        "    .map(load_and_preprocess_image, num_parallel_calls=tf.data.AUTOTUNE)\n",
        "    .batch(32)\n",
        "    .prefetch(tf.data.AUTOTUNE)\n",
        ")\n"
      ],
      "metadata": {
        "trusted": true,
        "execution": {
          "iopub.status.busy": "2025-07-24T13:53:39.466436Z",
          "iopub.execute_input": "2025-07-24T13:53:39.466698Z",
          "iopub.status.idle": "2025-07-24T13:53:39.532137Z",
          "shell.execute_reply.started": "2025-07-24T13:53:39.466679Z",
          "shell.execute_reply": "2025-07-24T13:53:39.531584Z"
        },
        "id": "fmEHE8bc0_wN"
      },
      "outputs": [],
      "execution_count": null
    },
    {
      "cell_type": "code",
      "source": [
        "for file_paths , label in dataset.take(3).as_numpy_iterator():\n",
        "    print(file_paths)\n",
        "    print(\"***\",label)"
      ],
      "metadata": {
        "trusted": true,
        "execution": {
          "iopub.status.busy": "2025-07-24T13:53:43.038328Z",
          "iopub.execute_input": "2025-07-24T13:53:43.038594Z",
          "iopub.status.idle": "2025-07-24T13:53:43.051415Z",
          "shell.execute_reply.started": "2025-07-24T13:53:43.038564Z",
          "shell.execute_reply": "2025-07-24T13:53:43.050668Z"
        },
        "id": "EEnuokkS0_wO"
      },
      "outputs": [],
      "execution_count": null
    },
    {
      "cell_type": "code",
      "source": [],
      "metadata": {
        "trusted": true,
        "execution": {
          "iopub.status.busy": "2025-07-24T13:55:06.362042Z",
          "iopub.execute_input": "2025-07-24T13:55:06.362408Z",
          "iopub.status.idle": "2025-07-24T13:55:06.401129Z",
          "shell.execute_reply.started": "2025-07-24T13:55:06.362385Z",
          "shell.execute_reply": "2025-07-24T13:55:06.400296Z"
        },
        "id": "ZoqIQXt_0_wO"
      },
      "outputs": [],
      "execution_count": null
    }
  ]
}